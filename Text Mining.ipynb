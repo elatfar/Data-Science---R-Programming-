{
 "cells": [
  {
   "cell_type": "code",
   "execution_count": 1,
   "metadata": {},
   "outputs": [
    {
     "data": {
      "text/html": [
       "<style>\n",
       ".list-inline {list-style: none; margin:0; padding: 0}\n",
       ".list-inline>li {display: inline-block}\n",
       ".list-inline>li:not(:last-child)::after {content: \"\\00b7\"; padding: 0 .5ex}\n",
       "</style>\n",
       "<ol class=list-inline><li>'Because I could not stop for Death -'</li><li>'He kindly stopped for me -'</li><li>'The Carriage held but just Ourselves -'</li><li>'and Immortality'</li></ol>\n"
      ],
      "text/latex": [
       "\\begin{enumerate*}\n",
       "\\item 'Because I could not stop for Death -'\n",
       "\\item 'He kindly stopped for me -'\n",
       "\\item 'The Carriage held but just Ourselves -'\n",
       "\\item 'and Immortality'\n",
       "\\end{enumerate*}\n"
      ],
      "text/markdown": [
       "1. 'Because I could not stop for Death -'\n",
       "2. 'He kindly stopped for me -'\n",
       "3. 'The Carriage held but just Ourselves -'\n",
       "4. 'and Immortality'\n",
       "\n",
       "\n"
      ],
      "text/plain": [
       "[1] \"Because I could not stop for Death -\"  \n",
       "[2] \"He kindly stopped for me -\"            \n",
       "[3] \"The Carriage held but just Ourselves -\"\n",
       "[4] \"and Immortality\"                       "
      ]
     },
     "metadata": {},
     "output_type": "display_data"
    }
   ],
   "source": [
    "text <- c(\"Because I could not stop for Death -\",\n",
    "          \"He kindly stopped for me -\",\n",
    "          \"The Carriage held but just Ourselves -\",\n",
    "          \"and Immortality\")\n",
    "\n",
    "text"
   ]
  },
  {
   "cell_type": "code",
   "execution_count": null,
   "metadata": {},
   "outputs": [],
   "source": []
  }
 ],
 "metadata": {
  "kernelspec": {
   "display_name": "R",
   "language": "R",
   "name": "ir"
  },
  "language_info": {
   "codemirror_mode": "r",
   "file_extension": ".r",
   "mimetype": "text/x-r-source",
   "name": "R",
   "pygments_lexer": "r",
   "version": "3.6.3"
  }
 },
 "nbformat": 4,
 "nbformat_minor": 4
}
